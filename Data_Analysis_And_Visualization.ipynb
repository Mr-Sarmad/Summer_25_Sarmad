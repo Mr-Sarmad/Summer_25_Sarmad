{
 "cells": [
  {
   "cell_type": "markdown",
   "id": "19719a41",
   "metadata": {},
   "source": [
    "# Exercise: Metabolic Data Analysis and Visualization with Python"
   ]
  },
  {
   "cell_type": "code",
   "execution_count": 1,
   "id": "a67009fd",
   "metadata": {},
   "outputs": [],
   "source": [
    "# importing libraries\n",
    "import pandas as pd\n",
    "import seaborn as sns\n",
    "import matplotlib.pyplot as plt\n",
    "import plotly.express as px"
   ]
  },
  {
   "cell_type": "code",
   "execution_count": 13,
   "id": "a84a922e",
   "metadata": {},
   "outputs": [],
   "source": [
    "# loading the dataset\n",
    "def load_data():\n",
    "    df=pd.read_csv('metabolic_dataset.csv')\n",
    "    return df"
   ]
  },
  {
   "cell_type": "code",
   "execution_count": 24,
   "id": "606ba708",
   "metadata": {},
   "outputs": [],
   "source": [
    "# Handaling missing values\n",
    "def handle_missing_values(df):\n",
    "    df.Concentration.isnull().sum() # Check the number of missing values in the Concentration column\n",
    "    df['Concentration'] = df.groupby(['Metabolite', 'Condition'])['Concentration'] \\\n",
    "                            .transform(lambda miss: miss.fillna(miss.median())) # Fill missing values with the median of each group\n",
    "    return df\n"
   ]
  },
  {
   "cell_type": "code",
   "execution_count": 26,
   "id": "94f58d41",
   "metadata": {},
   "outputs": [],
   "source": [
    "def standardize_units(df):\n",
    "    convert=df['Units'] == 'mM'\n",
    "    df.loc[convert,'Concentration'] = df.loc[convert, 'Concentration'] * 1000# multiply by 1000 to concentration\n",
    "    df.loc[convert, 'Units'] = 'μM'# change units to μM\n",
    "    return df"
   ]
  },
  {
   "cell_type": "code",
   "execution_count": 15,
   "id": "cc8aed89",
   "metadata": {},
   "outputs": [
    {
     "data": {
      "text/html": [
       "<div>\n",
       "<style scoped>\n",
       "    .dataframe tbody tr th:only-of-type {\n",
       "        vertical-align: middle;\n",
       "    }\n",
       "\n",
       "    .dataframe tbody tr th {\n",
       "        vertical-align: top;\n",
       "    }\n",
       "\n",
       "    .dataframe thead th {\n",
       "        text-align: right;\n",
       "    }\n",
       "</style>\n",
       "<table border=\"1\" class=\"dataframe\">\n",
       "  <thead>\n",
       "    <tr style=\"text-align: right;\">\n",
       "      <th></th>\n",
       "      <th></th>\n",
       "      <th>mean</th>\n",
       "      <th>median</th>\n",
       "      <th>std</th>\n",
       "    </tr>\n",
       "    <tr>\n",
       "      <th>Metabolite</th>\n",
       "      <th>Condition</th>\n",
       "      <th></th>\n",
       "      <th></th>\n",
       "      <th></th>\n",
       "    </tr>\n",
       "  </thead>\n",
       "  <tbody>\n",
       "    <tr>\n",
       "      <th rowspan=\"2\" valign=\"top\">Metabolite1</th>\n",
       "      <th>Control</th>\n",
       "      <td>80.324499</td>\n",
       "      <td>80.281301</td>\n",
       "      <td>4.464336</td>\n",
       "    </tr>\n",
       "    <tr>\n",
       "      <th>Treatment</th>\n",
       "      <td>75.972781</td>\n",
       "      <td>74.719990</td>\n",
       "      <td>2.521949</td>\n",
       "    </tr>\n",
       "    <tr>\n",
       "      <th rowspan=\"2\" valign=\"top\">Metabolite10</th>\n",
       "      <th>Control</th>\n",
       "      <td>49.972248</td>\n",
       "      <td>62.048568</td>\n",
       "      <td>27.913156</td>\n",
       "    </tr>\n",
       "    <tr>\n",
       "      <th>Treatment</th>\n",
       "      <td>83.550176</td>\n",
       "      <td>82.007579</td>\n",
       "      <td>6.702451</td>\n",
       "    </tr>\n",
       "    <tr>\n",
       "      <th rowspan=\"2\" valign=\"top\">Metabolite2</th>\n",
       "      <th>Control</th>\n",
       "      <td>47.753149</td>\n",
       "      <td>47.547589</td>\n",
       "      <td>4.269419</td>\n",
       "    </tr>\n",
       "    <tr>\n",
       "      <th>Treatment</th>\n",
       "      <td>49.955735</td>\n",
       "      <td>50.356504</td>\n",
       "      <td>6.000106</td>\n",
       "    </tr>\n",
       "    <tr>\n",
       "      <th rowspan=\"2\" valign=\"top\">Metabolite3</th>\n",
       "      <th>Control</th>\n",
       "      <td>20.517690</td>\n",
       "      <td>19.783831</td>\n",
       "      <td>2.788214</td>\n",
       "    </tr>\n",
       "    <tr>\n",
       "      <th>Treatment</th>\n",
       "      <td>43.169796</td>\n",
       "      <td>42.719539</td>\n",
       "      <td>6.465101</td>\n",
       "    </tr>\n",
       "    <tr>\n",
       "      <th rowspan=\"2\" valign=\"top\">Metabolite4</th>\n",
       "      <th>Control</th>\n",
       "      <td>50.866943</td>\n",
       "      <td>52.060923</td>\n",
       "      <td>3.847219</td>\n",
       "    </tr>\n",
       "    <tr>\n",
       "      <th>Treatment</th>\n",
       "      <td>39.371322</td>\n",
       "      <td>47.604860</td>\n",
       "      <td>22.458558</td>\n",
       "    </tr>\n",
       "    <tr>\n",
       "      <th rowspan=\"2\" valign=\"top\">Metabolite5</th>\n",
       "      <th>Control</th>\n",
       "      <td>31.109111</td>\n",
       "      <td>49.177155</td>\n",
       "      <td>28.448005</td>\n",
       "    </tr>\n",
       "    <tr>\n",
       "      <th>Treatment</th>\n",
       "      <td>53.651424</td>\n",
       "      <td>54.218082</td>\n",
       "      <td>3.945831</td>\n",
       "    </tr>\n",
       "    <tr>\n",
       "      <th rowspan=\"2\" valign=\"top\">Metabolite6</th>\n",
       "      <th>Control</th>\n",
       "      <td>23.607715</td>\n",
       "      <td>23.453450</td>\n",
       "      <td>5.674057</td>\n",
       "    </tr>\n",
       "    <tr>\n",
       "      <th>Treatment</th>\n",
       "      <td>26.432982</td>\n",
       "      <td>25.621681</td>\n",
       "      <td>4.091046</td>\n",
       "    </tr>\n",
       "    <tr>\n",
       "      <th rowspan=\"2\" valign=\"top\">Metabolite7</th>\n",
       "      <th>Control</th>\n",
       "      <td>108.053252</td>\n",
       "      <td>150.000000</td>\n",
       "      <td>57.759273</td>\n",
       "    </tr>\n",
       "    <tr>\n",
       "      <th>Treatment</th>\n",
       "      <td>30.999066</td>\n",
       "      <td>29.971337</td>\n",
       "      <td>4.404233</td>\n",
       "    </tr>\n",
       "    <tr>\n",
       "      <th rowspan=\"2\" valign=\"top\">Metabolite8</th>\n",
       "      <th>Control</th>\n",
       "      <td>19.397235</td>\n",
       "      <td>24.186280</td>\n",
       "      <td>13.240828</td>\n",
       "    </tr>\n",
       "    <tr>\n",
       "      <th>Treatment</th>\n",
       "      <td>15.518996</td>\n",
       "      <td>22.980484</td>\n",
       "      <td>14.336476</td>\n",
       "    </tr>\n",
       "    <tr>\n",
       "      <th rowspan=\"2\" valign=\"top\">Metabolite9</th>\n",
       "      <th>Control</th>\n",
       "      <td>46.036095</td>\n",
       "      <td>46.291889</td>\n",
       "      <td>1.238437</td>\n",
       "    </tr>\n",
       "    <tr>\n",
       "      <th>Treatment</th>\n",
       "      <td>27.215106</td>\n",
       "      <td>43.523241</td>\n",
       "      <td>24.849609</td>\n",
       "    </tr>\n",
       "  </tbody>\n",
       "</table>\n",
       "</div>"
      ],
      "text/plain": [
       "                              mean      median        std\n",
       "Metabolite   Condition                                   \n",
       "Metabolite1  Control     80.324499   80.281301   4.464336\n",
       "             Treatment   75.972781   74.719990   2.521949\n",
       "Metabolite10 Control     49.972248   62.048568  27.913156\n",
       "             Treatment   83.550176   82.007579   6.702451\n",
       "Metabolite2  Control     47.753149   47.547589   4.269419\n",
       "             Treatment   49.955735   50.356504   6.000106\n",
       "Metabolite3  Control     20.517690   19.783831   2.788214\n",
       "             Treatment   43.169796   42.719539   6.465101\n",
       "Metabolite4  Control     50.866943   52.060923   3.847219\n",
       "             Treatment   39.371322   47.604860  22.458558\n",
       "Metabolite5  Control     31.109111   49.177155  28.448005\n",
       "             Treatment   53.651424   54.218082   3.945831\n",
       "Metabolite6  Control     23.607715   23.453450   5.674057\n",
       "             Treatment   26.432982   25.621681   4.091046\n",
       "Metabolite7  Control    108.053252  150.000000  57.759273\n",
       "             Treatment   30.999066   29.971337   4.404233\n",
       "Metabolite8  Control     19.397235   24.186280  13.240828\n",
       "             Treatment   15.518996   22.980484  14.336476\n",
       "Metabolite9  Control     46.036095   46.291889   1.238437\n",
       "             Treatment   27.215106   43.523241  24.849609"
      ]
     },
     "execution_count": 15,
     "metadata": {},
     "output_type": "execute_result"
    }
   ],
   "source": [
    "summary = df.groupby(['Metabolite', 'Condition'])['Concentration'].agg(mean='mean',median='median',std='std') # Compute the mean, median, and standard deviation and saved in the summary\n",
    "summary # print the summary\n"
   ]
  },
  {
   "cell_type": "code",
   "execution_count": 16,
   "id": "6bbaf3d1",
   "metadata": {},
   "outputs": [
    {
     "data": {
      "text/plain": [
       "Metabolite    Condition\n",
       "Metabolite1   Control       80.324499\n",
       "              Treatment     75.972781\n",
       "Metabolite10  Control       49.972248\n",
       "              Treatment     83.550176\n",
       "Metabolite2   Control       47.753149\n",
       "              Treatment     49.955735\n",
       "Metabolite3   Control       20.517690\n",
       "              Treatment     43.169796\n",
       "Metabolite4   Control       50.866943\n",
       "              Treatment     39.371322\n",
       "Metabolite5   Control       31.109111\n",
       "              Treatment     53.651424\n",
       "Metabolite6   Control       23.607715\n",
       "              Treatment     26.432982\n",
       "Metabolite7   Control      108.053252\n",
       "              Treatment     30.999066\n",
       "Metabolite8   Control       19.397235\n",
       "              Treatment     15.518996\n",
       "Metabolite9   Control       46.036095\n",
       "              Treatment     27.215106\n",
       "Name: Concentration, dtype: float64"
      ]
     },
     "execution_count": 16,
     "metadata": {},
     "output_type": "execute_result"
    }
   ],
   "source": [
    "mean=df.groupby(['Metabolite', 'Condition'])['Concentration'].mean() # Group by Metabolite and Condition, then calculate mean Concentration\n",
    "mean # print the summary"
   ]
  },
  {
   "cell_type": "code",
   "execution_count": 29,
   "id": "847ca830",
   "metadata": {},
   "outputs": [
    {
     "data": {
      "image/png": "[encoded data removed]",
      "text/plain": [
       "<Figure size 1000x600 with 1 Axes>"
      ]
     },
     "metadata": {},
     "output_type": "display_data"
    }
   ],
   "source": [
    "# making boxplot using seaborn\n",
    "sns.set_style(\"whitegrid\") # set the background as whitegrid\n",
    "sns.set_theme(style=\"ticks\", palette=\"pastel\") # this step is setting color and style \n",
    "plt.figure(figsize=(10,6)) # setting size of the figure\n",
    "sns.boxplot(data=df,x='Metabolite',y='Concentration',hue=\"Condition\", palette=[\"m\", \"g\"]) # making boxplot with seaborn\n",
    "sns.despine(offset=10, trim=True) # \n",
    "plt.title(\"Concentration Distribution by Metabolite\")\n",
    "plt.xlabel('Metabolite')\n",
    "plt.ylabel('Concentration (μM)')\n",
    "plt.show()\n",
    "plt.savefig(\"concentration_boxplot.png\", dpi=300)\n",
    "plt.close()\n"
   ]
  },
  {
   "cell_type": "code",
   "execution_count": 39,
   "id": "8f309437",
   "metadata": {},
   "outputs": [
    {
     "name": "stderr",
     "output_type": "stream",
     "text": [
      "C:\\Users\\PC\\AppData\\Local\\Temp\\ipykernel_20732\\3894014847.py:11: UserWarning:\n",
      "\n",
      "No artists with labels found to put in legend.  Note that artists whose label start with an underscore are ignored when legend() is called with no argument.\n",
      "\n"
     ]
    },
    {
     "data": {
      "image/png": "[encoded data removed]",
      "text/plain": [
       "<Figure size 1000x600 with 1 Axes>"
      ]
     },
     "metadata": {},
     "output_type": "display_data"
    }
   ],
   "source": [
    "# making  bar plot \n",
    "plt.figure(figsize=(10, 6))  # setting size of the figure\n",
    "mean = df.groupby(['Metabolite', 'Condition'])['Concentration'].mean().reset_index()\n",
    "labels = mean['Metabolite'] + \" (\" + mean['Condition'] + \")\"\n",
    "plt.bar(labels, mean['Concentration'])# creating bar plot\n",
    "plt.grid(True, linestyle='--', alpha=0.7) # adding grid to the plot\n",
    "plt.title('Mean Concentration of Each Metabolite under Different Conditions',fontsize=14) # adding title to the plot\n",
    "plt.xticks(rotation=45)\n",
    "plt.ylabel('Mean Concentration (μM)',fontsize=12)\n",
    "plt.xlabel('Metabolite',fontsize=12)\n",
    "plt.legend(title='Condition')\n",
    "plt.tight_layout()\n",
    "plt.show()\n",
    "plt.close()"
   ]
  },
  {
   "cell_type": "code",
   "execution_count": 30,
   "id": "c189b55a",
   "metadata": {},
   "outputs": [
    {
     "data": {
      "application/vnd.plotly.v1+json": {
       "config": {
        "plotlyServerURL": "https://plot.ly"
       },
       "data": [
        {
         "hovertemplate": "Condition=Control<br>Replicate=%{x}<br>Concentration=%{y}<extra></extra>",
         "legendgroup": "Control",
         "line": {
          "color": "#636efa",
          "dash": "solid"
         },
         "marker": {
          "symbol": "circle"
         },
         "mode": "lines+markers",
         "name": "Control",
         "orientation": "v",
         "showlegend": true,
         "type": "scatter",
         "x": {
          "bdata": "AQIDBAU=",
          "dtype": "i1"
         },
         "xaxis": "x",
         "y": {
          "bdata": "UGki4TQIMUA963guX6o4QI+EQSupyDNAcwk4PxxUNUBFhnA7S8czQA==",
          "dtype": "f8"
         },
         "yaxis": "y"
        },
        {
         "hovertemplate": "Condition=Treatment<br>Replicate=%{x}<br>Concentration=%{y}<extra></extra>",
         "legendgroup": "Treatment",
         "line": {
          "color": "#EF553B",
          "dash": "solid"
         },
         "marker": {
          "symbol": "circle"
         },
         "mode": "lines+markers",
         "name": "Treatment",
         "orientation": "v",
         "showlegend": true,
         "type": "scatter",
         "x": {
          "bdata": "AQIDBAU=",
          "dtype": "i1"
         },
         "xaxis": "x",
         "y": {
          "bdata": "cnE1fDIGSkDLc5bXGVxFQApTbN7Nv0JAkPpf/CpzR0DgJy40ZldCQA==",
          "dtype": "f8"
         },
         "yaxis": "y"
        }
       ],
       "layout": {
        "hovermode": "x unified",
        "legend": {
         "title": {
          "text": "Condition"
         },
         "tracegroupgap": 0
        },
        "template": {
         "data": {
          "bar": [
           {
            "error_x": {
             "color": "#2a3f5f"
            },
            "error_y": {
             "color": "#2a3f5f"
            },
            "marker": {
             "line": {
              "color": "#E5ECF6",
              "width": 0.5
             },
             "pattern": {
              "fillmode": "overlay",
              "size": 10,
              "solidity": 0.2
             }
            },
            "type": "bar"
           }
          ],
          "barpolar": [
           {
            "marker": {
             "line": {
              "color": "#E5ECF6",
              "width": 0.5
             },
             "pattern": {
              "fillmode": "overlay",
              "size": 10,
              "solidity": 0.2
             }
            },
            "type": "barpolar"
           }
          ],
          "carpet": [
           {
            "aaxis": {
             "endlinecolor": "#2a3f5f",
             "gridcolor": "white",
             "linecolor": "white",
             "minorgridcolor": "white",
             "startlinecolor": "#2a3f5f"
            },
            "baxis": {
             "endlinecolor": "#2a3f5f",
             "gridcolor": "white",
             "linecolor": "white",
             "minorgridcolor": "white",
             "startlinecolor": "#2a3f5f"
            },
            "type": "carpet"
           }
          ],
          "choropleth": [
           {
            "colorbar": {
             "outlinewidth": 0,
             "ticks": ""
            },
            "type": "choropleth"
           }
          ],
          "contour": [
           {
            "colorbar": {
             "outlinewidth": 0,
             "ticks": ""
            },
            "colorscale": [
             [
              0,
              "#0d0887"
             ],
             [
              0.1111111111111111,
              "#46039f"
             ],
             [
              0.2222222222222222,
              "#7201a8"
             ],
             [
              0.3333333333333333,
              "#9c179e"
             ],
             [
              0.4444444444444444,
              "#bd3786"
             ],
             [
              0.5555555555555556,
              "#d8576b"
             ],
             [
              0.6666666666666666,
              "#ed7953"
             ],
             [
              0.7777777777777778,
              "#fb9f3a"
             ],
             [
              0.8888888888888888,
              "#fdca26"
             ],
             [
              1,
              "#f0f921"
             ]
            ],
            "type": "contour"
           }
          ],
          "contourcarpet": [
           {
            "colorbar": {
             "outlinewidth": 0,
             "ticks": ""
            },
            "type": "contourcarpet"
           }
          ],
          "heatmap": [
           {
            "colorbar": {
             "outlinewidth": 0,
             "ticks": ""
            },
            "colorscale": [
             [
              0,
              "#0d0887"
             ],
             [
              0.1111111111111111,
              "#46039f"
             ],
             [
              0.2222222222222222,
              "#7201a8"
             ],
             [
              0.3333333333333333,
              "#9c179e"
             ],
             [
              0.4444444444444444,
              "#bd3786"
             ],
             [
              0.5555555555555556,
              "#d8576b"
             ],
             [
              0.6666666666666666,
              "#ed7953"
             ],
             [
              0.7777777777777778,
              "#fb9f3a"
             ],
             [
              0.8888888888888888,
              "#fdca26"
             ],
             [
              1,
              "#f0f921"
             ]
            ],
            "type": "heatmap"
           }
          ],
          "histogram": [
           {
            "marker": {
             "pattern": {
              "fillmode": "overlay",
              "size": 10,
              "solidity": 0.2
             }
            },
            "type": "histogram"
           }
          ],
          "histogram2d": [
           {
            "colorbar": {
             "outlinewidth": 0,
             "ticks": ""
            },
            "colorscale": [
             [
              0,
              "#0d0887"
             ],
             [
              0.1111111111111111,
              "#46039f"
             ],
             [
              0.2222222222222222,
              "#7201a8"
             ],
             [
              0.3333333333333333,
              "#9c179e"
             ],
             [
              0.4444444444444444,
              "#bd3786"
             ],
             [
              0.5555555555555556,
              "#d8576b"
             ],
             [
              0.6666666666666666,
              "#ed7953"
             ],
             [
              0.7777777777777778,
              "#fb9f3a"
             ],
             [
              0.8888888888888888,
              "#fdca26"
             ],
             [
              1,
              "#f0f921"
             ]
            ],
            "type": "histogram2d"
           }
          ],
          "histogram2dcontour": [
           {
            "colorbar": {
             "outlinewidth": 0,
             "ticks": ""
            },
            "colorscale": [
             [
              0,
              "#0d0887"
             ],
             [
              0.1111111111111111,
              "#46039f"
             ],
             [
              0.2222222222222222,
              "#7201a8"
             ],
             [
              0.3333333333333333,
              "#9c179e"
             ],
             [
              0.4444444444444444,
              "#bd3786"
             ],
             [
              0.5555555555555556,
              "#d8576b"
             ],
             [
              0.6666666666666666,
              "#ed7953"
             ],
             [
              0.7777777777777778,
              "#fb9f3a"
             ],
             [
              0.8888888888888888,
              "#fdca26"
             ],
             [
              1,
              "#f0f921"
             ]
            ],
            "type": "histogram2dcontour"
           }
          ],
          "mesh3d": [
           {
            "colorbar": {
             "outlinewidth": 0,
             "ticks": ""
            },
            "type": "mesh3d"
           }
          ],
          "parcoords": [
           {
            "line": {
             "colorbar": {
              "outlinewidth": 0,
              "ticks": ""
             }
            },
            "type": "parcoords"
           }
          ],
          "pie": [
           {
            "automargin": true,
            "type": "pie"
           }
          ],
          "scatter": [
           {
            "fillpattern": {
             "fillmode": "overlay",
             "size": 10,
             "solidity": 0.2
            },
            "type": "scatter"
           }
          ],
          "scatter3d": [
           {
            "line": {
             "colorbar": {
              "outlinewidth": 0,
              "ticks": ""
             }
            },
            "marker": {
             "colorbar": {
              "outlinewidth": 0,
              "ticks": ""
             }
            },
            "type": "scatter3d"
           }
          ],
          "scattercarpet": [
           {
            "marker": {
             "colorbar": {
              "outlinewidth": 0,
              "ticks": ""
             }
            },
            "type": "scattercarpet"
           }
          ],
          "scattergeo": [
           {
            "marker": {
             "colorbar": {
              "outlinewidth": 0,
              "ticks": ""
             }
            },
            "type": "scattergeo"
           }
          ],
          "scattergl": [
           {
            "marker": {
             "colorbar": {
              "outlinewidth": 0,
              "ticks": ""
             }
            },
            "type": "scattergl"
           }
          ],
          "scattermap": [
           {
            "marker": {
             "colorbar": {
              "outlinewidth": 0,
              "ticks": ""
             }
            },
            "type": "scattermap"
           }
          ],
          "scattermapbox": [
           {
            "marker": {
             "colorbar": {
              "outlinewidth": 0,
              "ticks": ""
             }
            },
            "type": "scattermapbox"
           }
          ],
          "scatterpolar": [
           {
            "marker": {
             "colorbar": {
              "outlinewidth": 0,
              "ticks": ""
             }
            },
            "type": "scatterpolar"
           }
          ],
          "scatterpolargl": [
           {
            "marker": {
             "colorbar": {
              "outlinewidth": 0,
              "ticks": ""
             }
            },
            "type": "scatterpolargl"
           }
          ],
          "scatterternary": [
           {
            "marker": {
             "colorbar": {
              "outlinewidth": 0,
              "ticks": ""
             }
            },
            "type": "scatterternary"
           }
          ],
          "surface": [
           {
            "colorbar": {
             "outlinewidth": 0,
             "ticks": ""
            },
            "colorscale": [
             [
              0,
              "#0d0887"
             ],
             [
              0.1111111111111111,
              "#46039f"
             ],
             [
              0.2222222222222222,
              "#7201a8"
             ],
             [
              0.3333333333333333,
              "#9c179e"
             ],
             [
              0.4444444444444444,
              "#bd3786"
             ],
             [
              0.5555555555555556,
              "#d8576b"
             ],
             [
              0.6666666666666666,
              "#ed7953"
             ],
             [
              0.7777777777777778,
              "#fb9f3a"
             ],
             [
              0.8888888888888888,
              "#fdca26"
             ],
             [
              1,
              "#f0f921"
             ]
            ],
            "type": "surface"
           }
          ],
          "table": [
           {
            "cells": {
             "fill": {
              "color": "#EBF0F8"
             },
             "line": {
              "color": "white"
             }
            },
            "header": {
             "fill": {
              "color": "#C8D4E3"
             },
             "line": {
              "color": "white"
             }
            },
            "type": "table"
           }
          ]
         },
         "layout": {
          "annotationdefaults": {
           "arrowcolor": "#2a3f5f",
           "arrowhead": 0,
           "arrowwidth": 1
          },
          "autotypenumbers": "strict",
          "coloraxis": {
           "colorbar": {
            "outlinewidth": 0,
            "ticks": ""
           }
          },
          "colorscale": {
           "diverging": [
            [
             0,
             "#8e0152"
            ],
            [
             0.1,
             "#c51b7d"
            ],
            [
             0.2,
             "#de77ae"
            ],
            [
             0.3,
             "#f1b6da"
            ],
            [
             0.4,
             "#fde0ef"
            ],
            [
             0.5,
             "#f7f7f7"
            ],
            [
             0.6,
             "#e6f5d0"
            ],
            [
             0.7,
             "#b8e186"
            ],
            [
             0.8,
             "#7fbc41"
            ],
            [
             0.9,
             "#4d9221"
            ],
            [
             1,
             "#276419"
            ]
           ],
           "sequential": [
            [
             0,
             "#0d0887"
            ],
            [
             0.1111111111111111,
             "#46039f"
            ],
            [
             0.2222222222222222,
             "#7201a8"
            ],
            [
             0.3333333333333333,
             "#9c179e"
            ],
            [
             0.4444444444444444,
             "#bd3786"
            ],
            [
             0.5555555555555556,
             "#d8576b"
            ],
            [
             0.6666666666666666,
             "#ed7953"
            ],
            [
             0.7777777777777778,
             "#fb9f3a"
            ],
            [
             0.8888888888888888,
             "#fdca26"
            ],
            [
             1,
             "#f0f921"
            ]
           ],
           "sequentialminus": [
            [
             0,
             "#0d0887"
            ],
            [
             0.1111111111111111,
             "#46039f"
            ],
            [
             0.2222222222222222,
             "#7201a8"
            ],
            [
             0.3333333333333333,
             "#9c179e"
            ],
            [
             0.4444444444444444,
             "#bd3786"
            ],
            [
             0.5555555555555556,
             "#d8576b"
            ],
            [
             0.6666666666666666,
             "#ed7953"
            ],
            [
             0.7777777777777778,
             "#fb9f3a"
            ],
            [
             0.8888888888888888,
             "#fdca26"
            ],
            [
             1,
             "#f0f921"
            ]
           ]
          },
          "colorway": [
           "#636efa",
           "#EF553B",
           "#00cc96",
           "#ab63fa",
           "#FFA15A",
           "#19d3f3",
           "#FF6692",
           "#B6E880",
           "#FF97FF",
           "#FECB52"
          ],
          "font": {
           "color": "#2a3f5f"
          },
          "geo": {
           "bgcolor": "white",
           "lakecolor": "white",
           "landcolor": "#E5ECF6",
           "showlakes": true,
           "showland": true,
           "subunitcolor": "white"
          },
          "hoverlabel": {
           "align": "left"
          },
          "hovermode": "closest",
          "mapbox": {
           "style": "light"
          },
          "paper_bgcolor": "white",
          "plot_bgcolor": "#E5ECF6",
          "polar": {
           "angularaxis": {
            "gridcolor": "white",
            "linecolor": "white",
            "ticks": ""
           },
           "bgcolor": "#E5ECF6",
           "radialaxis": {
            "gridcolor": "white",
            "linecolor": "white",
            "ticks": ""
           }
          },
          "scene": {
           "xaxis": {
            "backgroundcolor": "#E5ECF6",
            "gridcolor": "white",
            "gridwidth": 2,
            "linecolor": "white",
            "showbackground": true,
            "ticks": "",
            "zerolinecolor": "white"
           },
           "yaxis": {
            "backgroundcolor": "#E5ECF6",
            "gridcolor": "white",
            "gridwidth": 2,
            "linecolor": "white",
            "showbackground": true,
            "ticks": "",
            "zerolinecolor": "white"
           },
           "zaxis": {
            "backgroundcolor": "#E5ECF6",
            "gridcolor": "white",
            "gridwidth": 2,
            "linecolor": "white",
            "showbackground": true,
            "ticks": "",
            "zerolinecolor": "white"
           }
          },
          "shapedefaults": {
           "line": {
            "color": "#2a3f5f"
           }
          },
          "ternary": {
           "aaxis": {
            "gridcolor": "white",
            "linecolor": "white",
            "ticks": ""
           },
           "baxis": {
            "gridcolor": "white",
            "linecolor": "white",
            "ticks": ""
           },
           "bgcolor": "#E5ECF6",
           "caxis": {
            "gridcolor": "white",
            "linecolor": "white",
            "ticks": ""
           }
          },
          "title": {
           "x": 0.05
          },
          "xaxis": {
           "automargin": true,
           "gridcolor": "white",
           "linecolor": "white",
           "ticks": "",
           "title": {
            "standoff": 15
           },
           "zerolinecolor": "white",
           "zerolinewidth": 2
          },
          "yaxis": {
           "automargin": true,
           "gridcolor": "white",
           "linecolor": "white",
           "ticks": "",
           "title": {
            "standoff": 15
           },
           "zerolinecolor": "white",
           "zerolinewidth": 2
          }
         }
        },
        "title": {
         "text": "Concentration Trends Across Replicates for Metabolite3"
        },
        "xaxis": {
         "anchor": "y",
         "domain": [
          0,
          1
         ],
         "title": {
          "text": "Replicate"
         }
        },
        "yaxis": {
         "anchor": "x",
         "domain": [
          0,
          1
         ],
         "title": {
          "text": "Concentration (μM)"
         }
        }
       }
      }
     },
     "metadata": {},
     "output_type": "display_data"
    }
   ],
   "source": [
    "# making interactive graph through Plotly\n",
    "metabolite='Metabolite3'\n",
    "filter_df=df[df['Metabolite']==metabolite]\n",
    "fig = px.line(\n",
    "    filter_df,\n",
    "    x='Replicate',\n",
    "    y='Concentration',\n",
    "    color='Condition',\n",
    "    markers=True,\n",
    "    title=f'Concentration Trends Across Replicates for {metabolite}'\n",
    ")\n",
    "fig.update_layout(\n",
    "    xaxis_title='Replicate',\n",
    "    yaxis_title='Concentration (μM)',\n",
    "    hovermode='x unified'\n",
    ")\n",
    "fig.show()"
   ]
  },
  {
   "cell_type": "code",
   "execution_count": 33,
   "id": "049b20df",
   "metadata": {},
   "outputs": [
    {
     "data": {
      "text/html": [
       "<div>\n",
       "<style scoped>\n",
       "    .dataframe tbody tr th:only-of-type {\n",
       "        vertical-align: middle;\n",
       "    }\n",
       "\n",
       "    .dataframe tbody tr th {\n",
       "        vertical-align: top;\n",
       "    }\n",
       "\n",
       "    .dataframe thead th {\n",
       "        text-align: right;\n",
       "    }\n",
       "</style>\n",
       "<table border=\"1\" class=\"dataframe\">\n",
       "  <thead>\n",
       "    <tr style=\"text-align: right;\">\n",
       "      <th></th>\n",
       "      <th>Metabolite</th>\n",
       "      <th>Condition</th>\n",
       "      <th>Replicate</th>\n",
       "      <th>Concentration</th>\n",
       "      <th>Units</th>\n",
       "    </tr>\n",
       "  </thead>\n",
       "  <tbody>\n",
       "    <tr>\n",
       "      <th>0</th>\n",
       "      <td>Metabolite1</td>\n",
       "      <td>Control</td>\n",
       "      <td>1</td>\n",
       "      <td>80.281301</td>\n",
       "      <td>μM</td>\n",
       "    </tr>\n",
       "    <tr>\n",
       "      <th>1</th>\n",
       "      <td>Metabolite1</td>\n",
       "      <td>Control</td>\n",
       "      <td>2</td>\n",
       "      <td>84.658008</td>\n",
       "      <td>μM</td>\n",
       "    </tr>\n",
       "    <tr>\n",
       "      <th>2</th>\n",
       "      <td>Metabolite1</td>\n",
       "      <td>Control</td>\n",
       "      <td>3</td>\n",
       "      <td>75.872092</td>\n",
       "      <td>μM</td>\n",
       "    </tr>\n",
       "    <tr>\n",
       "      <th>3</th>\n",
       "      <td>Metabolite1</td>\n",
       "      <td>Control</td>\n",
       "      <td>4</td>\n",
       "      <td>75.872174</td>\n",
       "      <td>μM</td>\n",
       "    </tr>\n",
       "    <tr>\n",
       "      <th>4</th>\n",
       "      <td>Metabolite1</td>\n",
       "      <td>Control</td>\n",
       "      <td>5</td>\n",
       "      <td>84.938922</td>\n",
       "      <td>μM</td>\n",
       "    </tr>\n",
       "  </tbody>\n",
       "</table>\n",
       "</div>"
      ],
      "text/plain": [
       "    Metabolite Condition  Replicate  Concentration Units\n",
       "0  Metabolite1   Control          1      80.281301    μM\n",
       "1  Metabolite1   Control          2      84.658008    μM\n",
       "2  Metabolite1   Control          3      75.872092    μM\n",
       "3  Metabolite1   Control          4      75.872174    μM\n",
       "4  Metabolite1   Control          5      84.938922    μM"
      ]
     },
     "execution_count": 33,
     "metadata": {},
     "output_type": "execute_result"
    }
   ],
   "source": [
    "df=load_data()\n",
    "df.head()"
   ]
  },
  {
   "cell_type": "code",
   "execution_count": 34,
   "id": "095cd4bc",
   "metadata": {},
   "outputs": [],
   "source": [
    "df=handle_missing_values(df)"
   ]
  },
  {
   "cell_type": "code",
   "execution_count": 35,
   "id": "ea4fd30b",
   "metadata": {},
   "outputs": [],
   "source": [
    "df=standardize_units(df)"
   ]
  }
 ],
 "metadata": {
  "kernelspec": {
   "display_name": "genomics",
   "language": "python",
   "name": "python3"
  },
  "language_info": {
   "codemirror_mode": {
    "name": "ipython",
    "version": 3
   },
   "file_extension": ".py",
   "mimetype": "text/x-python",
   "name": "python",
   "nbconvert_exporter": "python",
   "pygments_lexer": "ipython3",
   "version": "3.13.5"
  }
 },
 "nbformat": 4,
 "nbformat_minor": 5
}
